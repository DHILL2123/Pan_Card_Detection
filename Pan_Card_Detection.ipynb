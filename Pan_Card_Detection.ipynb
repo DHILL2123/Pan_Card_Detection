{
 "cells": [
  {
   "cell_type": "code",
   "execution_count": 1,
   "id": "58ac98c5-a113-4010-afec-af13a34a794a",
   "metadata": {},
   "outputs": [],
   "source": [
    "#import packages\n",
    "\n",
    "#structural similarity values 0 to 1. 1 indicates perfect match to original copy. \n",
    "from skimage.metrics import structural_similarity\n",
    "#image processing functions will help in detecting edges\n",
    "import imutils\n",
    "#face recongnition packages\n",
    "import cv2\n",
    "#image library\n",
    "from PIL import Image\n",
    "#http request\n",
    "import requests"
   ]
  },
  {
   "cell_type": "code",
   "execution_count": 2,
   "id": "9f08680d-78be-45b4-8b6a-c4b9aac73210",
   "metadata": {},
   "outputs": [
    {
     "name": "stdout",
     "output_type": "stream",
     "text": [
      "mkdir: pan_card_tampering: File exists\n",
      "mkdir: pan_card_tampering/image: File exists\n"
     ]
    }
   ],
   "source": [
    "#Created directories for images\n",
    "!mkdir pan_card_tampering\n",
    "!mkdir pan_card_tampering/image"
   ]
  },
  {
   "cell_type": "code",
   "execution_count": 3,
   "id": "32c3c10a-c1cb-4313-9997-8bd2d5ada510",
   "metadata": {},
   "outputs": [],
   "source": [
    "#Using requests to pull in https original image and tampered image\n",
    "original = Image.open(requests.get('https://www.thestatesman.com/wp-content/uploads/2019/07/pan-card.jpg', stream=True).raw)\n",
    "tampered = Image.open(requests.get('https://assets1.cleartax-cdn.com/s/img/20170526124335/Pan4.png', stream=True).raw) "
   ]
  },
  {
   "cell_type": "code",
   "execution_count": 7,
   "id": "72627b3c-2377-43f5-9bf7-694c6f50cd23",
   "metadata": {},
   "outputs": [
    {
     "name": "stdout",
     "output_type": "stream",
     "text": [
      "Original Image Format :  JPEG\n",
      "Tampered Image Format :  PNG\n"
     ]
    }
   ],
   "source": [
    "#The file format of the source file\n",
    "print('Original Image Format : ', original.format)\n",
    "print('Tampered Image Format : ', tampered.format)\n",
    "\n",
    "#Image size in pixels, the size is given as a 2-tuple (width, height)\n",
    "print('Original Image Forma"
   ]
  },
  {
   "cell_type": "code",
   "execution_count": null,
   "id": "9ac0d13b-6a84-4c9f-9ed3-825649d02513",
   "metadata": {},
   "outputs": [],
   "source": []
  }
 ],
 "metadata": {
  "kernelspec": {
   "display_name": "Python 3 (ipykernel)",
   "language": "python",
   "name": "python3"
  },
  "language_info": {
   "codemirror_mode": {
    "name": "ipython",
    "version": 3
   },
   "file_extension": ".py",
   "mimetype": "text/x-python",
   "name": "python",
   "nbconvert_exporter": "python",
   "pygments_lexer": "ipython3",
   "version": "3.9.13"
  },
  "toc-autonumbering": false,
  "toc-showcode": false,
  "toc-showmarkdowntxt": true
 },
 "nbformat": 4,
 "nbformat_minor": 5
}
